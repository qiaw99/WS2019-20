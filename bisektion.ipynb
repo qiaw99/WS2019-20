{
 "cells": [
  {
   "cell_type": "code",
   "execution_count": 10,
   "metadata": {},
   "outputs": [
    {
     "name": "stdout",
     "output_type": "stream",
     "text": [
      "(1, -1.9117339147869652)\n",
      "(0.4184583813489823, -0.36730147296751625)\n",
      "(0.191378637917348, 0.16078184580939447)\n",
      "(0.3220603370691003, -0.13238812256185525)\n",
      "(0.22991872528030183, 0.07732814210782546)\n",
      "(0.2900116418691776, -0.05779764932028433)\n",
      "(0.2481951564930353, 0.036881387535048216)\n",
      "(0.2762448625928802, -0.02629765514563792)\n",
      "(0.25690158405350794, 0.01741451697280577)\n",
      "(0.2700098802664653, -0.012138005831382859)\n",
      "(0.261014931163328, 0.008172555286290295)\n"
     ]
    }
   ],
   "source": [
    "import math\n",
    "\n",
    "def func(x):\n",
    "    return math.cos(math.exp(x)) - x\n",
    "\n",
    "def bisektion():\n",
    "    a = -10\n",
    "    b = 1\n",
    "    while(True):\n",
    "        temp = (a + b) / 2\n",
    "        print((temp, func(temp)))\n",
    "        if(func(temp) > 0):\n",
    "            a = temp\n",
    "        else:\n",
    "            b = temp\n",
    "        if(abs(func(temp) - 0) <= 0.01):\n",
    "            print(temp)\n",
    "            break\n",
    "        else:\n",
    "            continue\n",
    "\n",
    "def func1(x):\n",
    "    return x + (math.cos(math.exp(x)) - x) / (math.sin(x) * math.exp(x) + 1)\n",
    "\n",
    "def newton():\n",
    "    x = 1\n",
    "    temp = x\n",
    "    while True:\n",
    "        print((temp, func(temp)))\n",
    "        if(abs(func(temp) - 0) <= 0.01):\n",
    "            return temp\n",
    "        else:\n",
    "            temp = func1(temp)\n",
    "        \n",
    "    \n",
    "            \n",
    "if __name__ == '__main__':\n",
    "    newton()"
   ]
  },
  {
   "cell_type": "code",
   "execution_count": null,
   "metadata": {},
   "outputs": [],
   "source": []
  }
 ],
 "metadata": {
  "kernelspec": {
   "display_name": "Python 3",
   "language": "python",
   "name": "python3"
  },
  "language_info": {
   "codemirror_mode": {
    "name": "ipython",
    "version": 3
   },
   "file_extension": ".py",
   "mimetype": "text/x-python",
   "name": "python",
   "nbconvert_exporter": "python",
   "pygments_lexer": "ipython3",
   "version": "3.8.0"
  }
 },
 "nbformat": 4,
 "nbformat_minor": 2
}
