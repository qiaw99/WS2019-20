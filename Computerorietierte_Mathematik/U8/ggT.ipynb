{
 "cells": [
  {
   "cell_type": "code",
   "execution_count": 4,
   "metadata": {},
   "outputs": [
    {
     "name": "stdout",
     "output_type": "stream",
     "text": [
      "2\n"
     ]
    }
   ],
   "source": [
    "def TumbGGT(a, b):\n",
    "    ggt = 1\n",
    "    temp = a if a <= b else b\n",
    "    for i in range(2, temp + 1):\n",
    "        if (a % i) == 0 and (b % i )== 0:\n",
    "            ggt = i\n",
    "    return ggt\n",
    "\n",
    "print(TumbGGT(2, 6))\n"
   ]
  },
  {
   "cell_type": "code",
   "execution_count": 2,
   "metadata": {},
   "outputs": [
    {
     "name": "stdout",
     "output_type": "stream",
     "text": [
      "2\n"
     ]
    }
   ],
   "source": [
    "def TumbGGT_ungekehrt(a, b):\n",
    "    temp = a if a <= b else b\n",
    "    for i in range(temp, 1, -1):\n",
    "        if((a % i == 0) and (b % i == 0)):\n",
    "            return i\n",
    "    return 1\n",
    "\n",
    "print(TumbGGT_ungekehrt(14,36))"
   ]
  },
  {
   "cell_type": "code",
   "execution_count": 5,
   "metadata": {},
   "outputs": [
    {
     "name": "stdout",
     "output_type": "stream",
     "text": [
      "2\n"
     ]
    }
   ],
   "source": [
    "def Euklidisch(a, b):\n",
    "    m = a if a >= b else b\n",
    "    n = b if a >= b else a\n",
    "    while(n > 0):\n",
    "        r = m % n\n",
    "        m = n\n",
    "        n = r\n",
    "    return m\n",
    "\n",
    "print(Euklidisch(14, 26))"
   ]
  },
  {
   "cell_type": "code",
   "execution_count": null,
   "metadata": {},
   "outputs": [],
   "source": []
  }
 ],
 "metadata": {
  "kernelspec": {
   "display_name": "Python 3",
   "language": "python",
   "name": "python3"
  },
  "language_info": {
   "codemirror_mode": {
    "name": "ipython",
    "version": 3
   },
   "file_extension": ".py",
   "mimetype": "text/x-python",
   "name": "python",
   "nbconvert_exporter": "python",
   "pygments_lexer": "ipython3",
   "version": "3.7.2"
  }
 },
 "nbformat": 4,
 "nbformat_minor": 2
}
